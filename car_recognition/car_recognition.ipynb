{
 "cells": [
  {
   "cell_type": "markdown",
   "metadata": {},
   "source": [
    "# Jármű felismerés YOLOv3 segítségével\n",
    "\n",
    "Az alábbi fájl beolvas egy képet, és a yolov3-at használva felismeri a legnagyobb talált objektumot. Mivel különböző cimkével rendelkeznek a járművek, ezért a legnagyobb terület alapján választja ki a keresett járművünket, ez azért működhet, mert a képek többségében majdnem csak a keresett jármű szerepel.\n",
    "\n",
    "Súlyok letöltése: https://pjreddie.com/media/files/yolov3.weights -> car_recognition mappába kell rakni\n",
    "\n",
    "Forrás: https://towardsdatascience.com/yolo-object-detection-with-opencv-and-python-21e50ac599e9"
   ]
  },
  {
   "cell_type": "markdown",
   "metadata": {},
   "source": [
    "Vannak olyan esetek, ahol nem járművön található a rendszám pl.: 18248688.jpg, ebben az esetben kihagyható a jármű felismerés, és a rendszámmal kezdhető."
   ]
  },
  {
   "cell_type": "markdown",
   "metadata": {},
   "source": [
    "### Háló inicializálása"
   ]
  },
  {
   "cell_type": "code",
   "execution_count": 50,
   "metadata": {},
   "outputs": [],
   "source": [
    "# Library-k beimportálása után konstansokba felvesszük a config fájl útját, a súlyokat és a cimkéket.\n",
    "import cv2\n",
    "import numpy as np\n",
    "\n",
    "IMAGE_URL = '../dataset/17873500.jpg'\n",
    "CONFIG_FILE = './yolov3.cfg'\n",
    "WEIGHTS = './yolov3.weights'\n",
    "CLASSES = './yolov3.txt'\n",
    "\n",
    "# Beolvassuk a képet, elmentjük a magasságát és a szélességét, majd a scale faktort ami 1/255-nek felel meg. (0..255) -> (0..1)\n",
    "image = cv2.imread(IMAGE_URL)\n",
    "Width = image.shape[1]\n",
    "Height = image.shape[0]\n",
    "scale = 0.00392 # 1/255\n",
    "\n",
    "# Beolvassuk a címkéket a fájlból, és elmentjük.\n",
    "classes = None\n",
    "with open(CLASSES, 'r') as f:\n",
    "    classes = [line.strip() for line in f.readlines()]\n",
    "\n",
    "# Létrehozzuk az előtanított hálót a súly és a config alapján, majd átalakítjuk a képet és beadjuk bemenetnek a hálónak.\n",
    "net = cv2.dnn.readNet(WEIGHTS, CONFIG_FILE)\n",
    "blob = cv2.dnn.blobFromImage(image, scale, (416,416), (0,0,0), True, crop=False)\n",
    "net.setInput(blob)"
   ]
  },
  {
   "cell_type": "markdown",
   "metadata": {},
   "source": [
    "### Kimenetek kinyerése a háló segítségével"
   ]
  },
  {
   "cell_type": "code",
   "execution_count": 51,
   "metadata": {},
   "outputs": [],
   "source": [
    "# Következtetéseket lefuttatjuk a hálón keresztül és az előrejelzéseket kigyűjtjük a kimeneti rétegekből\n",
    "layer_names = net.getLayerNames()\n",
    "output_layers = [layer_names[i - 1] for i in net.getUnconnectedOutLayers()]\n",
    "outs = net.forward(output_layers)\n",
    "\n",
    "# Változók inicializálás\n",
    "class_ids = []\n",
    "confidences = []\n",
    "boxes = []\n",
    "conf_threshold = 0.5\n",
    "nms_threshold = 0.4\n",
    "\n",
    "# Kimenetek feldolgozása\n",
    "for out in outs:\n",
    "    # detection első 4 paramétere: (középpont) x, y, szélesség, magasság\n",
    "    for detection in out:\n",
    "        scores = detection[5:] # Cimkék valószínűségei kigyűjtése\n",
    "        class_id = np.argmax(scores) # Max valószínűség kiválasztása\n",
    "        confidence = scores[class_id]\n",
    "        if confidence > 0.5:\n",
    "            # Középpontból kiszámoljuk a bal felső sarkot, és visszaskálázzuk a 0..1-ről a 0..H és 0..W-re az értékeket.\n",
    "            center_x = int(detection[0] * Width)\n",
    "            center_y = int(detection[1] * Height)\n",
    "            w = int(detection[2] * Width)\n",
    "            h = int(detection[3] * Height)\n",
    "            x = center_x - w / 2 \n",
    "            y = center_y - h / 2\n",
    "            class_ids.append(class_id)\n",
    "            confidences.append(float(confidence))\n",
    "            boxes.append([x, y, w, h])\n",
    "\n",
    "# Non-max suppression használata a kimenetre\n",
    "indices = cv2.dnn.NMSBoxes(boxes, confidences, conf_threshold, nms_threshold)"
   ]
  },
  {
   "cell_type": "markdown",
   "metadata": {},
   "source": [
    "### Kimenetek feldolgozása"
   ]
  },
  {
   "cell_type": "code",
   "execution_count": 52,
   "metadata": {},
   "outputs": [],
   "source": [
    "# Kiválasztjuk a legnagyobb területtel rendelkező találatot a képről\n",
    "max_i = -1\n",
    "max_area = 0\n",
    "for i in indices:\n",
    "    box = boxes[i]\n",
    "    current_area = box[2] * box[3]\n",
    "    if max_area < current_area:\n",
    "        max_area = current_area\n",
    "        max_i = i\n",
    "\n",
    "# Ha nincs találat kiírjuk, különben levágjuk a találatra a képet és megnyitjuk.\n",
    "if max_i == -1:\n",
    "    print(\"Car not found!\")\n",
    "else:\n",
    "    biggest_box = boxes[max_i]\n",
    "    x = int(biggest_box[0])\n",
    "    y = int(biggest_box[1])\n",
    "    w = int(biggest_box[2])\n",
    "    h = int(biggest_box[3])\n",
    "    car_image = image[y:y+h,x:x+w]\n",
    "\n",
    "    cv2.imshow(\"Car detection\", car_image)\n",
    "    cv2.waitKey()\n",
    "    cv2.destroyAllWindows()"
   ]
  }
 ],
 "metadata": {
  "kernelspec": {
   "display_name": "Python 3",
   "language": "python",
   "name": "python3"
  },
  "language_info": {
   "codemirror_mode": {
    "name": "ipython",
    "version": 3
   },
   "file_extension": ".py",
   "mimetype": "text/x-python",
   "name": "python",
   "nbconvert_exporter": "python",
   "pygments_lexer": "ipython3",
   "version": "3.11.5"
  },
  "orig_nbformat": 4
 },
 "nbformat": 4,
 "nbformat_minor": 2
}
